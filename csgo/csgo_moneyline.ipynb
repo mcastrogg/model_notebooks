{
 "cells": [
  {
   "cell_type": "code",
   "execution_count": null,
   "metadata": {},
   "outputs": [],
   "source": [
    "\n",
    "from query_reader import QueryReader \n",
    "import pandas as pd\n",
    "import psycopg2.extras\n",
    "import psycopg2\n",
    "import time\n",
    "import os\n",
    "\n",
    "query_dir = os.path.join(os.path.abspath(''), 'queries')\n",
    "qr = QueryReader(query_dir)\n",
    "BASE_DATE = \"'2021-05-01'\"\n",
    "\n",
    "def create_connection(): \n",
    "    return psycopg2.connect(\n",
    "        dbname='main',\n",
    "        host='main-us-e2.cmbsiiqeauby.us-east-2.rds.amazonaws.com',\n",
    "        port=5432,\n",
    "        user='doadmin',\n",
    "        password='i39kew8n7jcat7l9'\n",
    "    )\n",
    "\n",
    "def run_query(connection, query, cursor=None, stats=False):\n",
    "    if cursor:\n",
    "        cursor = connection.cursor(cursor_factory = psycopg2.extras.RealDictCursor)\n",
    "    else:\n",
    "        cursor = connection.cursor()\n",
    "    try:\n",
    "        if stats:\n",
    "            start_time = time.time()\n",
    "        cursor.execute(query)\n",
    "        results = cursor.fetchall()\n",
    "\n",
    "        if stats:\n",
    "            end_time = time.time()\n",
    "\n",
    "        if len(results[0]) == 1:\n",
    "            results = [x[0] for x in results]\n",
    "        else:\n",
    "            results = [x for x in results]\n",
    "        if stats:\n",
    "            print(f'Time elapsed: {end_time - start_time}')\n",
    "            print(f'Length of Results: {len(results)}')\n",
    "            print(f'Sample Result: {results[0]}')\n",
    "        return results\n",
    "    except:\n",
    "        print('rolling back')\n",
    "        connection.rollback()\n",
    "    finally:\n",
    "        cursor.close()\n",
    "\n",
    "def big_fetch(connection, query, cursor=None, fetch_size=30000):\n",
    "    if cursor:\n",
    "        cursor = connection.cursor('big_fetch_cursos', cursor_factory = cursor)\n",
    "    else:\n",
    "        cursor = connection.cursor('big_fetch_crusor')\n",
    "    results = []\n",
    "    start_time = time.time()\n",
    "    cursor.execute(query)\n",
    "    while True:\n",
    "        rows = cursor.fetchmany(fetch_size)\n",
    "        if not rows:\n",
    "            break\n",
    "        results.extend(rows)\n",
    "\n",
    "    end_time = time.time()\n",
    "    print(f'Time elapsed: {end_time - start_time}')\n",
    "    print(f'Length of Results: {len(results)}')\n",
    "    print(f'Sample Result: {results[0]}')\n",
    "    cursor.close()\n",
    "    return results\n",
    "\n",
    "\n",
    "def read_into_df(connection, query, stats=False) -> pd.DataFrame:\n",
    "    if stats:\n",
    "        start_time = time.time()\n",
    "    df = pd.read_sql(query, connection)\n",
    "    if stats:\n",
    "        end_time = time.time()\n",
    "        print(f'Time elapsed: {end_time - start_time}')\n",
    "        print(f'DF Shape: {df.shape}')\n",
    "    return df\n",
    "\n",
    "import warnings\n",
    "warnings.filterwarnings(action='once')\n",
    "\n",
    "conn = create_connection()"
   ]
  },
  {
   "cell_type": "code",
   "execution_count": null,
   "metadata": {},
   "outputs": [],
   "source": [
    "kills_query = qr.read_query('csgo_kills.sql')\n",
    "kills_query = kills_query.format(date=BASE_DATE)\n",
    "\n",
    "assists_query = qr.read_query('csgo_assists.sql') # 44, 35, 35\n",
    "assists_query = assists_query.format(date=BASE_DATE)\n",
    "\n",
    "deaths_query = qr.read_query('csgo_deaths.sql')\n",
    "deaths_query = deaths_query.format(date=BASE_DATE)\n",
    "\n",
    "kills_df = read_into_df(conn, kills_query)\n",
    "assists_df = read_into_df(conn, assists_query)\n",
    "deaths_df = read_into_df(conn, deaths_query)"
   ]
  },
  {
   "cell_type": "code",
   "execution_count": null,
   "metadata": {},
   "outputs": [],
   "source": [
    "from econ_rebuilder import run_econ_rebuild\n",
    "\n",
    "econ_query = qr.read_query('econ_rebuild.sql')\n",
    "econ_query = econ_query.format(date=BASE_DATE)\n",
    "econ_data = run_query(conn, econ_query, cursor=1, stats=True)\n",
    "econ_data = [dict(x) for x in econ_data]\n",
    "econ_df = run_econ_rebuild(econ_data)"
   ]
  },
  {
   "cell_type": "code",
   "execution_count": null,
   "metadata": {},
   "outputs": [],
   "source": []
  },
  {
   "cell_type": "code",
   "execution_count": null,
   "metadata": {},
   "outputs": [],
   "source": [
    "from functools import reduce\n",
    "\n",
    "econ_cols = [x for x in econ_df.columns if x in ['match_id', 'steam_id'] or x.endswith('_bonus') or x.startswith('bomb_')]\n",
    "m_econ_df = econ_df[econ_cols]\n",
    "\n",
    "data_frames = [kills_df, assists_df, deaths_df, m_econ_df]\n",
    "\n",
    "df_merged = reduce(lambda  left,right: pd.merge(left,right,on=['match_id', 'steam_id'],\n",
    "                                            how='outer'), data_frames)\n",
    "\n",
    "print(df_merged.shape)\n",
    "df_merged.head()"
   ]
  },
  {
   "cell_type": "code",
   "execution_count": null,
   "metadata": {},
   "outputs": [],
   "source": [
    "print([x for x in df_merged.columns])"
   ]
  },
  {
   "cell_type": "code",
   "execution_count": null,
   "metadata": {},
   "outputs": [],
   "source": [
    "econ_cols = [x for x in econ_df.columns if x in ['match_id', 'steam_id'] or x.endswith('_bonus') or x.startswith('bomb_')]"
   ]
  },
  {
   "cell_type": "code",
   "execution_count": null,
   "metadata": {},
   "outputs": [],
   "source": []
  }
 ],
 "metadata": {
  "interpreter": {
   "hash": "44823f2a1a4c097a21aeb1eeb3bdf51ba03c9380c78f95a7a1087efe5b68bcd2"
  },
  "kernelspec": {
   "display_name": "Python 3.9.12 ('ModelNotebooks-OWhv5NqQ')",
   "language": "python",
   "name": "python3"
  },
  "language_info": {
   "codemirror_mode": {
    "name": "ipython",
    "version": 3
   },
   "file_extension": ".py",
   "mimetype": "text/x-python",
   "name": "python",
   "nbconvert_exporter": "python",
   "pygments_lexer": "ipython3",
   "version": "3.9.12"
  },
  "orig_nbformat": 4
 },
 "nbformat": 4,
 "nbformat_minor": 2
}
