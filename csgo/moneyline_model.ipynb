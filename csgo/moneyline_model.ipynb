{
 "cells": [
  {
   "cell_type": "code",
   "execution_count": 2,
   "metadata": {},
   "outputs": [],
   "source": [
    "from ..query_reader import QueryReader \n",
    "import pandas as pd\n",
    "import psycopg2\n",
    "import os\n",
    "\n",
    "query_dir = os.path.join(os.path.dirname(__file__), 'queries')\n",
    "qr = QueryReader(query_dir)\n",
    "\n",
    "def create_connection(): \n",
    "    return psycopg2.connect(\n",
    "        dbname='main',\n",
    "        host='main-us-e2.cmbsiiqeauby.us-east-2.rds.amazonaws.com',\n",
    "        port=5432,\n",
    "        user='doadmin',\n",
    "        password='i39kew8n7jcat7l9'\n",
    "    )\n",
    "\n",
    "conn = create_connection()"
   ]
  },
  {
   "cell_type": "code",
   "execution_count": null,
   "metadata": {},
   "outputs": [],
   "source": []
  }
 ],
 "metadata": {
  "interpreter": {
   "hash": "44823f2a1a4c097a21aeb1eeb3bdf51ba03c9380c78f95a7a1087efe5b68bcd2"
  },
  "kernelspec": {
   "display_name": "Python 3.9.12 ('ModelNotebooks-OWhv5NqQ')",
   "language": "python",
   "name": "python3"
  },
  "language_info": {
   "codemirror_mode": {
    "name": "ipython",
    "version": 3
   },
   "file_extension": ".py",
   "mimetype": "text/x-python",
   "name": "python",
   "nbconvert_exporter": "python",
   "pygments_lexer": "ipython3",
   "version": "3.9.12"
  },
  "orig_nbformat": 4
 },
 "nbformat": 4,
 "nbformat_minor": 2
}
