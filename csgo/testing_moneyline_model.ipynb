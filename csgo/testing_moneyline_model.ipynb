{
 "cells": [
  {
   "cell_type": "code",
   "execution_count": 23,
   "metadata": {},
   "outputs": [],
   "source": [
    "from query_reader import QueryReader \n",
    "import pandas as pd\n",
    "import psycopg2.extras\n",
    "import psycopg2\n",
    "import time\n",
    "import os\n",
    "\n",
    "query_dir = os.path.join(os.path.abspath(''), 'queries')\n",
    "qr = QueryReader(query_dir)\n",
    "BASE_DATE = \"'2021-05-01'\"\n",
    "\n",
    "def create_connection(): \n",
    "    return psycopg2.connect(\n",
    "        dbname='main',\n",
    "        host='main-us-e2.cmbsiiqeauby.us-east-2.rds.amazonaws.com',\n",
    "        port=5432,\n",
    "        user='doadmin',\n",
    "        password='i39kew8n7jcat7l9'\n",
    "    )\n",
    "\n",
    "def run_query(connection, query, cursor=None):\n",
    "    if cursor:\n",
    "        cursor = connection.cursor(cursor_factory = psycopg2.extras.RealDictCursor)\n",
    "    else:\n",
    "        cursor = connection.cursor()\n",
    "    try:\n",
    "        start_time = time.time()\n",
    "        cursor.execute(query)\n",
    "        results = cursor.fetchall()\n",
    "        end_time = time.time()\n",
    "\n",
    "        if len(results[0]) == 1:\n",
    "            results = [x[0] for x in results]\n",
    "        else:\n",
    "            results = [x for x in results]\n",
    "        print(f'Time elapsed: {end_time - start_time}')\n",
    "        print(f'Length of Results: {len(results)}')\n",
    "        print(f'Sample Result: {results[0]}')\n",
    "        return results\n",
    "    except:\n",
    "        print('rolling back')\n",
    "        connection.rollback()\n",
    "    finally:\n",
    "        cursor.close()\n",
    "\n",
    "def big_fetch(connection, query, cursor=None):\n",
    "    if cursor:\n",
    "        cursor = connection.cursor('big_fetch_cursos', cursor_factory = cursor)\n",
    "    else:\n",
    "        cursor = connection.cursor('big_fetch_crusor')\n",
    "    results = []\n",
    "    start_time = time.time()\n",
    "    cursor.execute(query)\n",
    "    while True:\n",
    "        rows = cursor.fetchmany(5000)\n",
    "        if not rows:\n",
    "            break\n",
    "        results.extend(rows)\n",
    "\n",
    "    end_time = time.time()\n",
    "    print(f'Time elapsed: {end_time - start_time}')\n",
    "    print(f'Length of Results: {len(results)}')\n",
    "    print(f'Sample Result: {results[0]}')\n",
    "    cursor.close()\n",
    "    return results\n",
    "\n",
    "\n",
    "def read_into_df(connection, query) -> pd.DataFrame:\n",
    "    start_time = time.time()\n",
    "    df = pd.read_sql(query, connection)\n",
    "    end_time = time.time()\n",
    "    print(f'Time elapsed: {end_time - start_time}')\n",
    "    print(f'DF Shape: {df.shape}')\n",
    "    return df\n",
    "\n",
    "\n",
    "\n",
    "conn = create_connection()"
   ]
  },
  {
   "cell_type": "code",
   "execution_count": 6,
   "metadata": {},
   "outputs": [
    {
     "name": "stdout",
     "output_type": "stream",
     "text": [
      "Time elapsed: 0.8576109409332275\n",
      "Length of Results: 11897\n",
      "Sample Result: 2\n"
     ]
    }
   ],
   "source": [
    "raw_map_ids_query = qr.read_query('map_id.sql')\n",
    "map_ids_query = raw_map_ids_query.format(date=BASE_DATE) \n",
    "map_ids = run_query(conn, map_ids_query)\n",
    "str_map_ids = ','.join([str(x) for x in map_ids])"
   ]
  },
  {
   "cell_type": "code",
   "execution_count": 7,
   "metadata": {},
   "outputs": [
    {
     "name": "stdout",
     "output_type": "stream",
     "text": [
      "Time elapsed: 19.919265031814575\n",
      "Length of Results: 53828\n",
      "Sample Result: (0, 76561197960710573, 16, Decimal('16.0000'), Decimal('1.0000'), Decimal('1.0000'), Decimal('9.0000'), Decimal('9.0000'), 6, Decimal('6.0000'), 0, Decimal('0.0000'), 0, Decimal('0.0000'), 0, Decimal('0.0000'), 0, Decimal('0.0000'), 1, Decimal('1.0000'), 9, Decimal('9.0000'))\n"
     ]
    }
   ],
   "source": [
    "raw_ck2 = qr.read_query('csgo_kills.sql')\n",
    "ck2 = raw_ck2.format(date=BASE_DATE)\n",
    "results = run_query(conn, ck2)"
   ]
  },
  {
   "cell_type": "code",
   "execution_count": 21,
   "metadata": {},
   "outputs": [
    {
     "name": "stdout",
     "output_type": "stream",
     "text": [
      "Time elapsed: 162.8395390510559\n",
      "Length of Results: 2800056\n",
      "Sample Result: RealDictRow([('match_id', 0), ('map_id', 2), ('round_number', 1), ('team_name', 'FURIA'), ('steam_id', 76561197965021087), ('won', 0), ('is_tside', 1), ('round_end_reason', 'BombDefused'), ('rifle_kills', 0), ('sniper_kills', 0), ('grenade_kills', 0), ('lmg_kills', 0), ('shotgun_kills', 0), ('smg_kills', 0), ('pistol_kills', 0), ('melee_kills', 0), ('awp_kills', 0), ('p90_kills', 0), ('cz75_kills', 0), ('bomb_plants', 0), ('bomb_defused', 0), ('bomb_exploded', 0)])\n"
     ]
    }
   ],
   "source": [
    "\n",
    "raw_econ = qr.read_query('econ_rebuild.sql')\n",
    "econ = raw_econ.format(date=BASE_DATE)\n",
    "results = big_fetch(conn, econ)"
   ]
  },
  {
   "cell_type": "code",
   "execution_count": 24,
   "metadata": {},
   "outputs": [
    {
     "name": "stdout",
     "output_type": "stream",
     "text": [
      "Time elapsed: 143.6016550064087\n",
      "Length of Results: 2800056\n",
      "Sample Result: RealDictRow([('match_id', 0), ('map_id', 2), ('round_number', 1), ('team_name', 'FURIA'), ('steam_id', 76561197965021087), ('won', 0), ('is_tside', 1), ('round_end_reason', 'BombDefused'), ('rifle_kills', 0), ('sniper_kills', 0), ('grenade_kills', 0), ('lmg_kills', 0), ('shotgun_kills', 0), ('smg_kills', 0), ('pistol_kills', 0), ('melee_kills', 0), ('awp_kills', 0), ('p90_kills', 0), ('cz75_kills', 0), ('bomb_plants', 0), ('bomb_defused', 0), ('bomb_exploded', 0)])\n"
     ]
    }
   ],
   "source": [
    "raw_econ = qr.read_query('econ_rebuild.sql')\n",
    "econ = raw_econ.format(date=BASE_DATE)\n",
    "results = run_query(conn, econ, cursor=psycopg2.extras.RealDictCursor)"
   ]
  },
  {
   "cell_type": "code",
   "execution_count": 25,
   "metadata": {},
   "outputs": [
    {
     "name": "stdout",
     "output_type": "stream",
     "text": [
      "Time elapsed: 101.27957320213318\n",
      "Length of Results: 2800056\n",
      "Sample Result: (0, 2, 1, 'FURIA', 76561197965021087, 0, 1, 'BombDefused', 0, 0, 0, 0, 0, 0, 0, 0, 0, 0, 0, 0, 0, 0)\n"
     ]
    }
   ],
   "source": [
    "raw_econ = qr.read_query('econ_rebuild.sql')\n",
    "econ = raw_econ.format(date=BASE_DATE)\n",
    "results = run_query(conn, econ)"
   ]
  },
  {
   "cell_type": "code",
   "execution_count": 15,
   "metadata": {},
   "outputs": [
    {
     "name": "stderr",
     "output_type": "stream",
     "text": [
      "/Users/matias/.local/share/virtualenvs/ModelNotebooks-OWhv5NqQ/lib/python3.9/site-packages/pandas/io/sql.py:761: UserWarning: pandas only support SQLAlchemy connectable(engine/connection) ordatabase string URI or sqlite3 DBAPI2 connectionother DBAPI2 objects are not tested, please consider using SQLAlchemy\n",
      "  warnings.warn(\n"
     ]
    },
    {
     "name": "stdout",
     "output_type": "stream",
     "text": [
      "Time elapsed: 94.80610990524292\n",
      "DF Shape: (2800056, 22)\n"
     ]
    }
   ],
   "source": [
    "from econ_rebuilder import run_econ_rebuild\n",
    "\n",
    "raw_econ = qr.read_query('econ_rebuild.sql')\n",
    "econ = raw_econ.format(date=BASE_DATE)\n",
    "indf = read_into_df(conn, econ)\n",
    "\n"
   ]
  },
  {
   "cell_type": "code",
   "execution_count": 16,
   "metadata": {},
   "outputs": [],
   "source": [
    "df.to_csv('data/base_econ_df.csv', index=False)"
   ]
  },
  {
   "cell_type": "code",
   "execution_count": 17,
   "metadata": {},
   "outputs": [
    {
     "name": "stdout",
     "output_type": "stream",
     "text": [
      "Finished streaks, time taken: 34.43226218223572\n",
      "Finished groupping, time taken: 77.0827112197876\n",
      "Finished round end bonus, time taken: 183.50504326820374\n",
      "Finished aplpying weapon bonus, time taken: 5.074497699737549\n",
      "moneydf: (110480, 4)\n",
      "match_money: (53828, 4)\n",
      "Finished aplpying weapon bonus, time taken: 3.6867661476135254\n"
     ]
    },
    {
     "data": {
      "text/html": [
       "<div>\n",
       "<style scoped>\n",
       "    .dataframe tbody tr th:only-of-type {\n",
       "        vertical-align: middle;\n",
       "    }\n",
       "\n",
       "    .dataframe tbody tr th {\n",
       "        vertical-align: top;\n",
       "    }\n",
       "\n",
       "    .dataframe thead th {\n",
       "        text-align: right;\n",
       "    }\n",
       "</style>\n",
       "<table border=\"1\" class=\"dataframe\">\n",
       "  <thead>\n",
       "    <tr style=\"text-align: right;\">\n",
       "      <th></th>\n",
       "      <th>match_id</th>\n",
       "      <th>steam_id</th>\n",
       "      <th>total_money_per_map</th>\n",
       "      <th>total_money</th>\n",
       "    </tr>\n",
       "  </thead>\n",
       "  <tbody>\n",
       "    <tr>\n",
       "      <th>0</th>\n",
       "      <td>0</td>\n",
       "      <td>76561197960710573</td>\n",
       "      <td>68900.0</td>\n",
       "      <td>68900</td>\n",
       "    </tr>\n",
       "    <tr>\n",
       "      <th>1</th>\n",
       "      <td>0</td>\n",
       "      <td>76561197965021087</td>\n",
       "      <td>61900.0</td>\n",
       "      <td>61900</td>\n",
       "    </tr>\n",
       "    <tr>\n",
       "      <th>2</th>\n",
       "      <td>0</td>\n",
       "      <td>76561197996370184</td>\n",
       "      <td>58600.0</td>\n",
       "      <td>58600</td>\n",
       "    </tr>\n",
       "    <tr>\n",
       "      <th>3</th>\n",
       "      <td>0</td>\n",
       "      <td>76561198013243326</td>\n",
       "      <td>70500.0</td>\n",
       "      <td>70500</td>\n",
       "    </tr>\n",
       "    <tr>\n",
       "      <th>4</th>\n",
       "      <td>0</td>\n",
       "      <td>76561198016432560</td>\n",
       "      <td>70200.0</td>\n",
       "      <td>70200</td>\n",
       "    </tr>\n",
       "  </tbody>\n",
       "</table>\n",
       "</div>"
      ],
      "text/plain": [
       "   match_id           steam_id  total_money_per_map  total_money\n",
       "0         0  76561197960710573              68900.0        68900\n",
       "1         0  76561197965021087              61900.0        61900\n",
       "2         0  76561197996370184              58600.0        58600\n",
       "3         0  76561198013243326              70500.0        70500\n",
       "4         0  76561198016432560              70200.0        70200"
      ]
     },
     "execution_count": 17,
     "metadata": {},
     "output_type": "execute_result"
    }
   ],
   "source": [
    "\n",
    "econ_df = run_econ_rebuild(df)\n",
    "econ_df.head()"
   ]
  },
  {
   "cell_type": "code",
   "execution_count": 11,
   "metadata": {},
   "outputs": [],
   "source": [
    "econ_df.to_csv('output/econ_rebuild.csv')"
   ]
  },
  {
   "cell_type": "code",
   "execution_count": null,
   "metadata": {},
   "outputs": [],
   "source": []
  }
 ],
 "metadata": {
  "interpreter": {
   "hash": "44823f2a1a4c097a21aeb1eeb3bdf51ba03c9380c78f95a7a1087efe5b68bcd2"
  },
  "kernelspec": {
   "display_name": "Python 3.9.12 ('ModelNotebooks-OWhv5NqQ')",
   "language": "python",
   "name": "python3"
  },
  "language_info": {
   "codemirror_mode": {
    "name": "ipython",
    "version": 3
   },
   "file_extension": ".py",
   "mimetype": "text/x-python",
   "name": "python",
   "nbconvert_exporter": "python",
   "pygments_lexer": "ipython3",
   "version": "3.9.12"
  },
  "orig_nbformat": 4
 },
 "nbformat": 4,
 "nbformat_minor": 2
}
