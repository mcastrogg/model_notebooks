{
 "cells": [
  {
   "cell_type": "code",
   "execution_count": null,
   "metadata": {},
   "outputs": [],
   "source": [
    "import psycopg2\n",
    "\n",
    "SCHEMA = 'historical'\n",
    "CONN_DICT = {\n",
    "    'host': 'main-us-e2.cmbsiiqeauby.us-east-2.rds.amazonaws.com',\n",
    "    'user': 'doadmin',\n",
    "    'password': 'i39kew8n7jcat7l9',\n",
    "    'port': 5432,\n",
    "    'dbname': 'main'\n",
    "}\n",
    "\n",
    "\n",
    "def connect_to_db():\n",
    "    return psycopg2.connect(**CONN_DICT)\n",
    "\n",
    "def get_cur(conn):\n",
    "    conn.rollback()\n",
    "    return conn.cursor()\n",
    "\n",
    "conn = connect_to_db()"
   ]
  },
  {
   "cell_type": "code",
   "execution_count": null,
   "metadata": {},
   "outputs": [],
   "source": [
    "from datetime import datetime, timedelta\n",
    "t365 = datetime.now() - timedelta(days=365)\n",
    "date_str = t365.strftime('%Y-%m-%d')\n",
    "\n",
    "query = f\"\"\"\n",
    "select match_id \n",
    "from historical_csgo.csgo_match_maps\n",
    "where map_id not in (\n",
    "\tSELECT DISTINCT(map_id)\n",
    "\tFROM historical_csgo.csgo_map_rounds cmr \n",
    "\tWHERE round_number != \"t_score\" + \"ct_score\"\n",
    "\tORDER BY 1\n",
    ") AND map_id NOT IN (\n",
    "\tSELECT DISTINCT(map_id) \n",
    "\tFROM historical_csgo.csgo_map_rounds cmr\n",
    "\tGROUP BY 1\n",
    "\tHAVING max(round_number) < 16\n",
    "\tORDER BY 1\n",
    ") AND map_id NOT IN (\n",
    "\tSELECT distinct(map_id)\n",
    "\tFROM historical_csgo.csgo_match_maps cmm\n",
    "\tWHERE cmm.winner IS NULL OR cmm.winner = ''\n",
    ") AND match_id not in (\n",
    "\tSELECT match_id\n",
    "\tFROM historical_csgo.csgo_match_data cmd\n",
    "\tWHERE cmd.date < '{date_str}'\n",
    ")\n",
    "\"\"\"\n",
    "cur = get_cur(conn)\n",
    "cur.execute(query)\n",
    "match_ids = [x[0] for x in cur.fetchall()]\n",
    "match_ids_str = ','.join([str(x) for x in match_ids])\n",
    "print(f'Found {len(match_ids)} working. sample: {match_ids[:5]}')\n",
    "cur.close()"
   ]
  },
  {
   "cell_type": "code",
   "execution_count": null,
   "metadata": {},
   "outputs": [],
   "source": [
    "import pandas as pd\n",
    "import numpy as np\n",
    "import time"
   ]
  },
  {
   "cell_type": "code",
   "execution_count": null,
   "metadata": {},
   "outputs": [],
   "source": [
    "from query_reader import QueryReader\n",
    "qr = QueryReader('queries')\n",
    "raw = qr.read_query('econ_rebuild.sql')\n",
    "raw = raw.format(date=\"'2021-05-01'\")\n",
    "df = pd.read_sql(raw, conn)\n",
    "df"
   ]
  },
  {
   "cell_type": "code",
   "execution_count": null,
   "metadata": {},
   "outputs": [],
   "source": [
    "def streak(df, column_name, ref_value):\n",
    "    df = df.sort_values(['map_id', 'steam_id', 'round_number'])\n",
    "    prev_steam_id = df.iloc[0]['steam_id']\n",
    "\n",
    "    df[column_name] = 0 \n",
    "    prev_value = 0\n",
    "\n",
    "    def func2(row):\n",
    "        # non local variable ==> will use pre_value from the new_fun function\n",
    "        nonlocal prev_value\n",
    "        nonlocal prev_steam_id\n",
    "        if prev_steam_id != row['steam_id']:\n",
    "            # Since this is for larger dfs, we have to set the streak to one, because when we call apply we ommit the first row.\n",
    "            # What if instead we just returned 0?\n",
    "            prev_steam_id = row['steam_id']\n",
    "            prev_value = 1\n",
    "            return 1\n",
    "\n",
    "        if row['won'] == ref_value:\n",
    "            new_value =  prev_value + 1\n",
    "        else:\n",
    "            new_value = 0 \n",
    "\n",
    "        prev_value = new_value\n",
    "        return new_value\n",
    "\n",
    "    # This line might throw a SettingWithCopyWarning warning\n",
    "    df[column_name] = df.apply(func2, axis=1)\n",
    "    return df\n",
    "\n",
    "# This needs to be split changed because it currently takes the whole column and assigns the whole column it does not account for \n",
    "# multiple players in the DF\n",
    "df = streak(df, 'win_streak', 1)\n",
    "df = streak(df, 'loss_streak', 0)\n",
    "df[['map_id', 'round_number', 'steam_id', 'won', 'is_tside', 'win_streak', 'loss_streak']].head(50)"
   ]
  },
  {
   "cell_type": "code",
   "execution_count": null,
   "metadata": {},
   "outputs": [],
   "source": [
    "ct_reasons = ['BombDefused', 'CTWin', 'TargetSaved']\n",
    "t_reasons = ['TerroristsWin', 'TargetBombed']\n",
    "\n",
    "df['new_money'] = 0\n",
    "df['new_money'] = df['round_number'].apply(lambda x: 0 if x not in (1,16) else 800)\n",
    "df"
   ]
  },
  {
   "cell_type": "code",
   "execution_count": null,
   "metadata": {},
   "outputs": [],
   "source": [
    "# Need to activiate if a team wins two rounds, and then start counting loss bonuses\n",
    "\n",
    "losing_bonus = {\n",
    "    1: 1400,\n",
    "    2: 1900,\n",
    "    3: 2400,\n",
    "    4: 2900,\n",
    "    5: 3400\n",
    "    # 5+ is 3400\n",
    "}\n",
    "\n",
    "after_2_wins_loss_bonus = {\n",
    "    0: 1400,\n",
    "    1: 1500,\n",
    "    2: 2000,\n",
    "    3: 2500,\n",
    "    4: 3000\n",
    "    # 4+ is 3000\n",
    "}\n",
    "\n",
    "BOMB_PLANT_BONUS = 300\n",
    "PLAYER_BOMB_DEFUSE_BONUS = 300\n",
    "TEAM_BOMB_DEFUSE_BONUS = 250\n",
    "ROUND_WIN_BASE = 3250\n",
    "# Round End conditions\n",
    "# Enemy team elimnated: 3250\n",
    "# CT Wins by time: 3250\n",
    "# Bomb Defused: 3500\n",
    "# Bomb Exploded: 3500\n",
    "\n",
    "# bomb planted or defused = 300"
   ]
  },
  {
   "cell_type": "code",
   "execution_count": null,
   "metadata": {},
   "outputs": [],
   "source": [
    "gdf = df.groupby(['match_id', 'map_id', 'round_number']).max()[['bomb_defused', 'bomb_exploded']]\n",
    "gdf = gdf.reset_index()\n",
    "print(gdf.shape)\n",
    "mdf = df.merge(gdf, on=['match_id', 'map_id', 'round_number'])\n",
    "mdf['team_bomb_defused'] = mdf['bomb_defused_y']\n",
    "del mdf['bomb_defused_y']\n",
    "mdf['team_bomb_exploded'] = mdf['bomb_exploded_y']\n",
    "del mdf['bomb_exploded_y']\n",
    "\n",
    "mdf = mdf.sort_values(['steam_id', 'round_number'])\n",
    "mdf['bomb_plant_bonus'] = mdf.apply(lambda x: BOMB_PLANT_BONUS if x['bomb_plants'] and x['is_tside'] else 0, axis=1) \n",
    "mdf['bomb_defuse_bonus'] = mdf.apply(lambda x: PLAYER_BOMB_DEFUSE_BONUS if x['bomb_defused_x'] and not x['is_tside'] else 0, axis=1) \n",
    "mdf['team_bomb_defuse_bonus'] = mdf.apply(lambda x: TEAM_BOMB_DEFUSE_BONUS if not x['is_tside'] and x['team_bomb_defused'] else 0, axis=1 )\n",
    "mdf['team_bomb_explode_bonus'] = mdf.apply(lambda x: TEAM_BOMB_DEFUSE_BONUS if x['is_tside'] and x['team_bomb_exploded'] else 0, axis=1 )\n",
    "mdf.head(25)"
   ]
  },
  {
   "cell_type": "code",
   "execution_count": null,
   "metadata": {},
   "outputs": [],
   "source": [
    "mdf"
   ]
  },
  {
   "cell_type": "code",
   "execution_count": null,
   "metadata": {},
   "outputs": [],
   "source": [
    "def round_end_bonus(df):\n",
    "    df = df.sort_values(['steam_id', 'round_number'])\n",
    "    previous_row = df.iloc[0]\n",
    "    previous_steam_id = df.iloc[0]['steam_id']\n",
    "\n",
    "    latest_win_streak_after_loss = df.iloc[0]['win_streak']\n",
    "    df['round_end_bonus'] = 0\n",
    "\n",
    "    def inner(row):\n",
    "        nonlocal previous_row\n",
    "        nonlocal latest_win_streak_after_loss\n",
    "\n",
    "        if row['steam_id'] != previous_steam_id:\n",
    "            latest_win_streak_after_loss = 0 \n",
    "\n",
    "        if row['won'] == 1:\n",
    "            latest_win_streak_after_loss = 0 \n",
    "            round_end_bonus = ROUND_WIN_BASE\n",
    "        else:\n",
    "            # Check if team has won at least two consecutive rounds\n",
    "            if previous_row['win_streak'] >= 2 or latest_win_streak_after_loss >= 2:\n",
    "                if latest_win_streak_after_loss <= previous_row['win_streak']:\n",
    "                    latest_win_streak_after_loss = previous_row['win_streak'] \n",
    "\n",
    "                if latest_win_streak_after_loss >= 4 or row['loss_streak'] >= 4:\n",
    "                    round_end_bonus = after_2_wins_loss_bonus[4]\n",
    "                else:\n",
    "                    round_end_bonus = after_2_wins_loss_bonus[row['loss_streak']]\n",
    "            else:\n",
    "                if row['loss_streak'] >= 5:\n",
    "                    round_end_bonus = losing_bonus[5] \n",
    "                else:\n",
    "                    try:\n",
    "                        round_end_bonus = losing_bonus[row['loss_streak']]\n",
    "                    except Exception as e:\n",
    "                        print('prev row')\n",
    "                        print(previous_row)\n",
    "                        print('')\n",
    "                        print('')\n",
    "                        print('current')\n",
    "                        print(row)\n",
    "                        raise e\n",
    "\n",
    "\n",
    "\n",
    "        row['round_end_bonus'] = round_end_bonus\n",
    "        previous_row = row.copy()\n",
    "        return row\n",
    "\n",
    "    df = df.apply(inner, axis=1)\n",
    "    return df\n",
    "\n",
    "mdf = round_end_bonus(mdf)\n",
    "    \n"
   ]
  },
  {
   "cell_type": "code",
   "execution_count": null,
   "metadata": {},
   "outputs": [],
   "source": [
    "mdf[['round_number', 'steam_id', 'won', 'is_tside', 'win_streak', 'loss_streak', 'round_end_bonus']].head(25)"
   ]
  },
  {
   "cell_type": "markdown",
   "metadata": {},
   "source": []
  },
  {
   "cell_type": "code",
   "execution_count": null,
   "metadata": {},
   "outputs": [],
   "source": [
    "weapon_money = {\n",
    "    'Pistol': 300,\n",
    "    'Knife': 1500,\n",
    "    'Cz75': 100,\n",
    "    'SMG': 600,\n",
    "    'P90': 300,\n",
    "    'Shotgun': 900,\n",
    "    'Rifle': 300,\n",
    "    'Sniper': 300,\n",
    "    'Machine Gun': 300,\n",
    "    'AWP': 100,\n",
    "    'Grenade': 300,\n",
    "    'Zeus': 0\n",
    "}\n",
    "mdf['ar_bonus'] = mdf['rifle_kills'].apply(lambda x: x * weapon_money['Rifle']) \n",
    "mdf['sniper_bonus'] = mdf['sniper_kills'].apply(lambda x: x*weapon_money['Sniper'])\n",
    "mdf['grenade_bonus'] = mdf['grenade_kills'].apply(lambda x: x*weapon_money['Grenade'])\n",
    "mdf['lmg_bonus'] = mdf['lmg_kills'].apply(lambda x: x*weapon_money['Machine Gun'])\n",
    "mdf['shotgun_bonus'] = mdf['shotgun_kills'].apply(lambda x: x*weapon_money['Shotgun'])\n",
    "mdf['smg_bonus'] = mdf['smg_kills'].apply(lambda x: x*weapon_money['SMG'])\n",
    "mdf['pistol_bonus'] = mdf['pistol_kills'].apply(lambda x: x*weapon_money['Pistol'])\n",
    "mdf['melee_bonus'] = mdf['melee_kills'].apply(lambda x: x*weapon_money['Knife']) \n",
    "mdf['awp_bonus'] = mdf['awp_kills'].apply(lambda x: x*weapon_money['AWP'])\n",
    "mdf['p90_bonus'] = mdf['p90_kills'].apply(lambda x: x*weapon_money['P90'])\n",
    "mdf['cz75_bonus'] = mdf['cz75_kills'].apply(lambda x: x*weapon_money['Cz75'])"
   ]
  },
  {
   "cell_type": "code",
   "execution_count": null,
   "metadata": {},
   "outputs": [],
   "source": [
    "mdf['total_money_made'] = mdf[[x for x in mdf.columns if x.endswith('_bonus')]].sum(axis=1)\n",
    "# mdf[['match_id', 'map_id', 'round_number', 'steam_id', 'total_money_made', 'parser_money']]"
   ]
  },
  {
   "cell_type": "code",
   "execution_count": null,
   "metadata": {},
   "outputs": [],
   "source": [
    "mdf[mdf['map_id']==14908][[x for x in mdf.columns if x.endswith('_bonus')]]"
   ]
  },
  {
   "cell_type": "code",
   "execution_count": null,
   "metadata": {},
   "outputs": [],
   "source": [
    "money_df = mdf.groupby(['match_id', 'map_id', 'steam_id']).sum()['total_money_made']\n",
    "money_df = money_df.reset_index()\n",
    "money_df"
   ]
  },
  {
   "cell_type": "code",
   "execution_count": null,
   "metadata": {},
   "outputs": [],
   "source": [
    "print('shape', money_df.shape)\n",
    "match_money_df = money_df.groupby(['match_id', 'steam_id']).agg(total_money_per_map=('total_money_made', 'mean'), total_money=('total_money_made','sum')).reset_index()\n",
    "match_money_df.to_csv('csgo_money.csv',index=False)\n",
    "print('Shape', match_money_df.shape)\n",
    "match_money_df.head()"
   ]
  },
  {
   "cell_type": "code",
   "execution_count": null,
   "metadata": {},
   "outputs": [],
   "source": []
  },
  {
   "cell_type": "code",
   "execution_count": null,
   "metadata": {},
   "outputs": [],
   "source": [
    "money_df.shape"
   ]
  },
  {
   "cell_type": "code",
   "execution_count": null,
   "metadata": {},
   "outputs": [],
   "source": []
  }
 ],
 "metadata": {
  "interpreter": {
   "hash": "3e3e66a3d188e2c9926d27be5ec80eab1bd04226380c371b3c80a8565d64b56e"
  },
  "kernelspec": {
   "display_name": "Python 3.8.10 ('38')",
   "language": "python",
   "name": "python3"
  },
  "language_info": {
   "codemirror_mode": {
    "name": "ipython",
    "version": 3
   },
   "file_extension": ".py",
   "mimetype": "text/x-python",
   "name": "python",
   "nbconvert_exporter": "python",
   "pygments_lexer": "ipython3",
   "version": "3.9.12"
  },
  "orig_nbformat": 4
 },
 "nbformat": 4,
 "nbformat_minor": 2
}
