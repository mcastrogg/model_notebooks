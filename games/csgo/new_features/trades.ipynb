{
 "cells": [
  {
   "cell_type": "code",
   "execution_count": 9,
   "metadata": {},
   "outputs": [
    {
     "name": "stderr",
     "output_type": "stream",
     "text": [
      "/Users/matias/.local/share/virtualenvs/ModelNotebooks-OWhv5NqQ/lib/python3.9/site-packages/pandas/io/sql.py:761: UserWarning: pandas only support SQLAlchemy connectable(engine/connection) ordatabase string URI or sqlite3 DBAPI2 connectionother DBAPI2 objects are not tested, please consider using SQLAlchemy\n",
      "  warnings.warn(\n"
     ]
    },
    {
     "data": {
      "text/html": [
       "<div>\n",
       "<style scoped>\n",
       "    .dataframe tbody tr th:only-of-type {\n",
       "        vertical-align: middle;\n",
       "    }\n",
       "\n",
       "    .dataframe tbody tr th {\n",
       "        vertical-align: top;\n",
       "    }\n",
       "\n",
       "    .dataframe thead th {\n",
       "        text-align: right;\n",
       "    }\n",
       "</style>\n",
       "<table border=\"1\" class=\"dataframe\">\n",
       "  <thead>\n",
       "    <tr style=\"text-align: right;\">\n",
       "      <th></th>\n",
       "      <th>map_id</th>\n",
       "      <th>round_id</th>\n",
       "      <th>round_number</th>\n",
       "      <th>killer_steam_id</th>\n",
       "      <th>victim_steam_id</th>\n",
       "      <th>seconds_elapsed</th>\n",
       "    </tr>\n",
       "  </thead>\n",
       "  <tbody>\n",
       "    <tr>\n",
       "      <th>0</th>\n",
       "      <td>2</td>\n",
       "      <td>24</td>\n",
       "      <td>1</td>\n",
       "      <td>76561198164970560</td>\n",
       "      <td>76561198013243326</td>\n",
       "      <td>108</td>\n",
       "    </tr>\n",
       "    <tr>\n",
       "      <th>1</th>\n",
       "      <td>2</td>\n",
       "      <td>24</td>\n",
       "      <td>1</td>\n",
       "      <td>76561198114929868</td>\n",
       "      <td>76561197996370184</td>\n",
       "      <td>110</td>\n",
       "    </tr>\n",
       "    <tr>\n",
       "      <th>2</th>\n",
       "      <td>2</td>\n",
       "      <td>24</td>\n",
       "      <td>1</td>\n",
       "      <td>76561198164970560</td>\n",
       "      <td>76561198114929868</td>\n",
       "      <td>113</td>\n",
       "    </tr>\n",
       "    <tr>\n",
       "      <th>3</th>\n",
       "      <td>2</td>\n",
       "      <td>24</td>\n",
       "      <td>1</td>\n",
       "      <td>76561197960710573</td>\n",
       "      <td>76561198164970560</td>\n",
       "      <td>126</td>\n",
       "    </tr>\n",
       "    <tr>\n",
       "      <th>4</th>\n",
       "      <td>2</td>\n",
       "      <td>24</td>\n",
       "      <td>1</td>\n",
       "      <td>76561198016432560</td>\n",
       "      <td>76561197965021087</td>\n",
       "      <td>132</td>\n",
       "    </tr>\n",
       "  </tbody>\n",
       "</table>\n",
       "</div>"
      ],
      "text/plain": [
       "   map_id  round_id  ...    victim_steam_id  seconds_elapsed\n",
       "0       2        24  ...  76561198013243326              108\n",
       "1       2        24  ...  76561197996370184              110\n",
       "2       2        24  ...  76561198114929868              113\n",
       "3       2        24  ...  76561198164970560              126\n",
       "4       2        24  ...  76561197965021087              132\n",
       "\n",
       "[5 rows x 6 columns]"
      ]
     },
     "execution_count": 9,
     "metadata": {},
     "output_type": "execute_result"
    }
   ],
   "source": [
    "from conn import create_connection, read_into_df\n",
    "import pandas as pd\n",
    "\n",
    "conn = create_connection()\n",
    "\n",
    "query = \"\"\"\n",
    "select cmr.map_id, crk.round_id, cmr.round_number, crk.killer_steam_id, crk.victim_steam_id, crk.time/1000000000 as seconds_elapsed\n",
    "from historical_csgo.csgo_round_kills crk\n",
    "left join historical_csgo.csgo_map_rounds cmr ON cmr.round_id = crk.round_id\n",
    "where cmr.map_id in (\n",
    " SELECT map_id\n",
    "    FROM historical_csgo.csgo_match_maps\n",
    "    WHERE map_id NOT IN (\n",
    "        SELECT DISTINCT(map_id)\n",
    "        FROM historical_csgo.csgo_map_rounds cmr\n",
    "        WHERE round_number != \"t_score\" + \"ct_score\"\n",
    "        ORDER BY 1\n",
    "    )\n",
    "      AND map_id NOT IN (\n",
    "        SELECT DISTINCT(map_id)\n",
    "        FROM historical_csgo.csgo_map_rounds cmr\n",
    "        GROUP BY 1\n",
    "        HAVING MAX(round_number) < 16\n",
    "        ORDER BY 1\n",
    "    )\n",
    "      AND map_id NOT IN (\n",
    "        SELECT DISTINCT(map_id)\n",
    "        FROM historical_csgo.csgo_match_maps cmm\n",
    "        WHERE cmm.winner IS NULL\n",
    "           OR cmm.winner = ''\n",
    "    )\n",
    "      AND match_id NOT IN (\n",
    "        SELECT match_id\n",
    "        FROM historical_csgo.csgo_match_data cmd\n",
    "        WHERE cmd.date < {date}\n",
    "    )\n",
    ")\n",
    "order by cmr.map_id, cmr.round_number, crk.time asc;\n",
    "\"\"\".format(date=\"'2021-05-01'\")\n",
    "\n",
    "df = pd.read_sql(query, conn)\n",
    "df.head()"
   ]
  },
  {
   "cell_type": "code",
   "execution_count": 10,
   "metadata": {},
   "outputs": [],
   "source": [
    "df.to_csv(\"../output/trades.csv\", index=False)"
   ]
  },
  {
   "cell_type": "code",
   "execution_count": null,
   "metadata": {},
   "outputs": [],
   "source": []
  }
 ],
 "metadata": {
  "interpreter": {
   "hash": "44823f2a1a4c097a21aeb1eeb3bdf51ba03c9380c78f95a7a1087efe5b68bcd2"
  },
  "kernelspec": {
   "display_name": "Python 3.9.12 ('ModelNotebooks-OWhv5NqQ')",
   "language": "python",
   "name": "python3"
  },
  "language_info": {
   "codemirror_mode": {
    "name": "ipython",
    "version": 3
   },
   "file_extension": ".py",
   "mimetype": "text/x-python",
   "name": "python",
   "nbconvert_exporter": "python",
   "pygments_lexer": "ipython3",
   "version": "3.9.12"
  },
  "orig_nbformat": 4
 },
 "nbformat": 4,
 "nbformat_minor": 2
}
