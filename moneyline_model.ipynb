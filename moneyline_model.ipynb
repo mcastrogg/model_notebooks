{
 "cells": [
  {
   "cell_type": "code",
   "execution_count": 18,
   "metadata": {},
   "outputs": [],
   "source": [
    "from games.utils.query_reader import QueryReader\n",
    "import pandas as pd\n",
    "import psycopg2\n",
    "import time\n",
    "import os\n",
    "\n",
    "query_dir = os.path.join(os.path.abspath(''), 'queries')\n",
    "qr = QueryReader(query_dir)\n",
    "BASE_DATE = \"'2021-01-01'\"\n",
    "\n",
    "def create_connection(): \n",
    "    return psycopg2.connect(\n",
    "        dbname='main',\n",
    "        host='main-us-e2.cmbsiiqeauby.us-east-2.rds.amazonaws.com',\n",
    "        port=5432,\n",
    "        user='doadmin',\n",
    "        password='i39kew8n7jcat7l9'\n",
    "    )\n",
    "\n",
    "def run_query(connection, query):\n",
    "    cursor = connection.cursor()\n",
    "    try:\n",
    "        start_time = time.time()\n",
    "        cursor.execute(query)\n",
    "        results = cursor.fetchall()\n",
    "        end_time = time.time()\n",
    "\n",
    "        if len(results[0]) == 1:\n",
    "            results = [x[0] for x in results]\n",
    "        else:\n",
    "            results = list(list(x) for x in results)\n",
    "        print(f'Time elapsed: {end_time - start_time}')\n",
    "        print(f'Length of Results: {len(results)}')\n",
    "        print(f'Sample Result: {results[0]}')\n",
    "        return results\n",
    "    except:\n",
    "        print('rolling back')\n",
    "        connection.rollback()\n",
    "    finally:\n",
    "        cursor.close()\n",
    "\n",
    "\n",
    "def read_into_df(connection, query) -> pd.DataFrame:\n",
    "    start_time = time.time()\n",
    "    df = pd.read_sql(connection, query)\n",
    "    end_time = time.time()\n",
    "    print(f'Time elapsed: {end_time - start_time}')\n",
    "    return df\n",
    "\n",
    "\n",
    "conn = create_connection()"
   ]
  },
  {
   "cell_type": "code",
   "execution_count": 23,
   "metadata": {},
   "outputs": [
    {
     "name": "stdout",
     "output_type": "stream",
     "text": [
      "Time elapsed: 0.8888423442840576\n",
      "Length of Results: 16197\n",
      "Sample Result: 2\n"
     ]
    }
   ],
   "source": [
    "raw_map_ids_query = qr.read_query('map_id.sql')\n",
    "map_ids_query = raw_map_ids_query.format(date=BASE_DATE) \n",
    "\n",
    "map_ids = run_query(conn, map_ids_query)\n",
    "str_map_ids = ','.join([str(x) for x in map_ids])\n",
    "\n"
   ]
  },
  {
   "cell_type": "code",
   "execution_count": 24,
   "metadata": {},
   "outputs": [],
   "source": [
    "raw_ck1 = qr.read_query('csgo_kills copy.sql')\n",
    "ck1 = raw_ck1.format(map_ids=str_map_ids)\n",
    "results = run_query(conn, ck1)"
   ]
  },
  {
   "cell_type": "code",
   "execution_count": 20,
   "metadata": {},
   "outputs": [
    {
     "name": "stdout",
     "output_type": "stream",
     "text": [
      "Time elapsed: 17.661826848983765\n",
      "Length of Results: 74266\n",
      "Sample Result: [0, 76561197960710573, 16, Decimal('16.0000'), Decimal('1.0000'), Decimal('1.0000'), Decimal('9.0000'), Decimal('9.0000'), 6, Decimal('6.0000'), 0, Decimal('0.0000'), 0, Decimal('0.0000'), 0, Decimal('0.0000'), 0, Decimal('0.0000'), 1, Decimal('1.0000'), 9, Decimal('9.0000')]\n"
     ]
    }
   ],
   "source": [
    "raw_ck2 = qr.read_query('csgo_kills.sql')\n",
    "ck2 = raw_ck2.format(date=BASE_DATE)\n",
    "results = run_query(conn, ck2)"
   ]
  },
  {
   "cell_type": "code",
   "execution_count": null,
   "metadata": {},
   "outputs": [],
   "source": []
  }
 ],
 "metadata": {
  "interpreter": {
   "hash": "44823f2a1a4c097a21aeb1eeb3bdf51ba03c9380c78f95a7a1087efe5b68bcd2"
  },
  "kernelspec": {
   "display_name": "Python 3.9.12 ('ModelNotebooks-OWhv5NqQ')",
   "language": "python",
   "name": "python3"
  },
  "language_info": {
   "codemirror_mode": {
    "name": "ipython",
    "version": 3
   },
   "file_extension": ".py",
   "mimetype": "text/x-python",
   "name": "python",
   "nbconvert_exporter": "python",
   "pygments_lexer": "ipython3",
   "version": "3.8.10"
  },
  "orig_nbformat": 4
 },
 "nbformat": 4,
 "nbformat_minor": 2
}