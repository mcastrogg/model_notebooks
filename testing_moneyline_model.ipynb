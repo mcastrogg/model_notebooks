{
 "cells": [
  {
   "cell_type": "code",
   "execution_count": null,
   "metadata": {},
   "outputs": [],
   "source": [
    "from games.utils.query_reader import QueryReader\n",
    "import pandas as pd\n",
    "import psycopg2.extras\n",
    "import psycopg2\n",
    "import time\n",
    "import os\n",
    "\n",
    "query_dir = os.path.join(os.path.abspath(''), 'queries')\n",
    "qr = QueryReader(query_dir)\n",
    "BASE_DATE = \"'2021-05-01'\"\n",
    "\n",
    "def create_connection(): \n",
    "    return psycopg2.connect(\n",
    "        dbname='main',\n",
    "        host='main-us-e2.cmbsiiqeauby.us-east-2.rds.amazonaws.com',\n",
    "        port=5432,\n",
    "        user='doadmin',\n",
    "        password='i39kew8n7jcat7l9'\n",
    "    )\n",
    "\n",
    "def run_query(connection, query, cursor=None):\n",
    "    if cursor:\n",
    "        cursor = connection.cursor(cursor_factory = psycopg2.extras.RealDictCursor)\n",
    "    else:\n",
    "        cursor = connection.cursor()\n",
    "    try:\n",
    "        start_time = time.time()\n",
    "        cursor.execute(query)\n",
    "        results = cursor.fetchall()\n",
    "        end_time = time.time()\n",
    "\n",
    "        if len(results[0]) == 1:\n",
    "            results = [x[0] for x in results]\n",
    "        else:\n",
    "            results = [x for x in results]\n",
    "        print(f'Time elapsed: {end_time - start_time}')\n",
    "        print(f'Length of Results: {len(results)}')\n",
    "        print(f'Sample Result: {results[0]}')\n",
    "        return results\n",
    "    except:\n",
    "        print('rolling back')\n",
    "        connection.rollback()\n",
    "    finally:\n",
    "        cursor.close()\n",
    "\n",
    "def big_fetch(connection, query, cursor=None, fetch_size=30000):\n",
    "    if cursor:\n",
    "        cursor = connection.cursor('big_fetch_cursos', cursor_factory = cursor)\n",
    "    else:\n",
    "        cursor = connection.cursor('big_fetch_crusor')\n",
    "    results = []\n",
    "    start_time = time.time()\n",
    "    cursor.execute(query)\n",
    "    while True:\n",
    "        rows = cursor.fetchmany(fetch_size)\n",
    "        if not rows:\n",
    "            break\n",
    "        results.extend(rows)\n",
    "\n",
    "    end_time = time.time()\n",
    "    print(f'Time elapsed: {end_time - start_time}')\n",
    "    print(f'Length of Results: {len(results)}')\n",
    "    print(f'Sample Result: {results[0]}')\n",
    "    cursor.close()\n",
    "    return results\n",
    "\n",
    "\n",
    "def read_into_df(connection, query) -> pd.DataFrame:\n",
    "    start_time = time.time()\n",
    "    df = pd.read_sql(query, connection)\n",
    "    end_time = time.time()\n",
    "    print(f'Time elapsed: {end_time - start_time}')\n",
    "    print(f'DF Shape: {df.shape}')\n",
    "    return df\n",
    "\n",
    "\n",
    "\n",
    "conn = create_connection()"
   ]
  },
  {
   "cell_type": "code",
   "execution_count": null,
   "metadata": {},
   "outputs": [],
   "source": [
    "raw_map_ids_query = qr.read_query('map_id.sql')\n",
    "map_ids_query = raw_map_ids_query.format(date=BASE_DATE) \n",
    "map_ids = run_query(conn, map_ids_query)\n",
    "str_map_ids = ','.join([str(x) for x in map_ids])"
   ]
  },
  {
   "cell_type": "code",
   "execution_count": null,
   "metadata": {},
   "outputs": [],
   "source": [
    "raw_ck2 = qr.read_query('csgo_kills.sql')\n",
    "ck2 = raw_ck2.format(date=BASE_DATE)\n",
    "results = run_query(conn, ck2)"
   ]
  },
  {
   "cell_type": "code",
   "execution_count": null,
   "metadata": {},
   "outputs": [],
   "source": [
    "\n",
    "raw_econ = qr.read_query('econ_rebuild.sql')\n",
    "econ = raw_econ.format(date=BASE_DATE)\n",
    "results = big_fetch(conn, econ)"
   ]
  },
  {
   "cell_type": "code",
   "execution_count": null,
   "metadata": {},
   "outputs": [],
   "source": [
    "raw_econ = qr.read_query('econ_rebuild.sql')\n",
    "econ = raw_econ.format(date=BASE_DATE)\n",
    "results = run_query(conn, econ, cursor=psycopg2.extras.RealDictCursor)"
   ]
  },
  {
   "cell_type": "code",
   "execution_count": null,
   "metadata": {},
   "outputs": [],
   "source": [
    "raw_econ = qr.read_query('econ_rebuild.sql')\n",
    "econ = raw_econ.format(date=BASE_DATE)\n",
    "results = run_query(conn, econ)"
   ]
  },
  {
   "cell_type": "code",
   "execution_count": null,
   "metadata": {},
   "outputs": [],
   "source": [
    "raw_econ = qr.read_query('econ_rebuild.sql')\n",
    "econ = raw_econ.format(date=BASE_DATE)\n",
    "results = big_fetch(conn, econ, fetch_size=40000)\n",
    "# 94s with itersize 30k\n",
    "# 95s with 40k\n",
    "# 96s with itersize 50k\n",
    "# 99 s with 20k\n",
    "# 102s with 10k"
   ]
  },
  {
   "cell_type": "code",
   "execution_count": null,
   "metadata": {},
   "outputs": [],
   "source": [
    "from econ_rebuilder import run_econ_rebuild\n",
    "\n",
    "raw_econ = qr.read_query('econ_rebuild.sql')\n",
    "econ = raw_econ.format(date=BASE_DATE)\n",
    "indf = read_into_df(conn, econ)\n",
    "\n"
   ]
  },
  {
   "cell_type": "code",
   "execution_count": null,
   "metadata": {},
   "outputs": [],
   "source": [
    "df.to_csv('data/base_econ_df.csv', index=False)"
   ]
  },
  {
   "cell_type": "code",
   "execution_count": null,
   "metadata": {},
   "outputs": [],
   "source": [
    "\n",
    "econ_df = run_econ_rebuild(df)\n",
    "econ_df.head()"
   ]
  },
  {
   "cell_type": "code",
   "execution_count": null,
   "metadata": {},
   "outputs": [],
   "source": [
    "econ_df.to_csv('output/econ_rebuild.csv')"
   ]
  },
  {
   "cell_type": "code",
   "execution_count": null,
   "metadata": {},
   "outputs": [],
   "source": [
    "test_q = \"\"\"\n",
    "select crk.round_id,\n",
    "       crk.killer_steam_id,\n",
    "       crk.weapon_id\n",
    "FROM historical_csgo.csgo_round_kills crk\n",
    "LEFT JOIN historical_csgo.csgo_map_rounds cmr ON crk.round_id = cmr.round_id\n",
    "where map_id not in (\n",
    "SELECT map_id\n",
    "FROM historical_csgo.csgo_match_maps\n",
    "WHERE map_id NOT IN (\n",
    "    SELECT DISTINCT(map_id)\n",
    "    FROM historical_csgo.csgo_map_rounds cmr\n",
    "    WHERE round_number != \"t_score\" + \"ct_score\"\n",
    "    ORDER BY 1\n",
    ")\n",
    "  AND map_id NOT IN (\n",
    "    SELECT DISTINCT(map_id)\n",
    "    FROM historical_csgo.csgo_map_rounds cmr\n",
    "    GROUP BY 1\n",
    "    HAVING MAX(round_number) < 16\n",
    "    ORDER BY 1\n",
    ")\n",
    "  AND map_id NOT IN (\n",
    "    SELECT DISTINCT(map_id)\n",
    "    FROM historical_csgo.csgo_match_maps cmm\n",
    "    WHERE cmm.winner IS NULL\n",
    "       OR cmm.winner = ''\n",
    ")\n",
    "  AND match_id NOT IN (\n",
    "    SELECT match_id\n",
    "    FROM historical_csgo.csgo_match_data cmd\n",
    "    WHERE cmd.date < '2021-01-01'\n",
    ")\n",
    "    );\n",
    "\"\"\"\n",
    "\n",
    "results = big_fetch(conn, test_q, fetch_size=30000)"
   ]
  },
  {
   "cell_type": "code",
   "execution_count": null,
   "metadata": {},
   "outputs": [],
   "source": [
    "results = run_query(conn, test_q)"
   ]
  },
  {
   "cell_type": "code",
   "execution_count": null,
   "metadata": {},
   "outputs": [],
   "source": []
  }
 ],
 "metadata": {
  "interpreter": {
   "hash": "44823f2a1a4c097a21aeb1eeb3bdf51ba03c9380c78f95a7a1087efe5b68bcd2"
  },
  "kernelspec": {
   "display_name": "Python 3.9.12 ('ModelNotebooks-OWhv5NqQ')",
   "language": "python",
   "name": "python3"
  },
  "language_info": {
   "codemirror_mode": {
    "name": "ipython",
    "version": 3
   },
   "file_extension": ".py",
   "mimetype": "text/x-python",
   "name": "python",
   "nbconvert_exporter": "python",
   "pygments_lexer": "ipython3",
   "version": "3.9.12"
  },
  "orig_nbformat": 4
 },
 "nbformat": 4,
 "nbformat_minor": 2
}